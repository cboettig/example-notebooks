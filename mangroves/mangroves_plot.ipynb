{
 "cells": [
  {
   "cell_type": "code",
   "execution_count": 1,
   "id": "a12c9514-6abb-42ff-8a56-df20df1a04ee",
   "metadata": {
    "tags": []
   },
   "outputs": [],
   "source": [
    "import os\n",
    "#os.environ[\"AWS_ACCESS_KEY_ID\"]=\"<SET_SECURELY_OUTSIDE_SCRIPT>\"\n",
    "#os.environ[\"AWS_SECRET_ACCESS_KEY\"]=\"<SET_SECURELY_OUTSIDE_SCRIPT>\"\n",
    "os.environ[\"AWS_S3_ENDPOINT\"]=\"minio.carlboettiger.info\"\n",
    "os.environ[\"AWS_VIRTUAL_HOSTING\"]=\"FALSE\"\n",
    "os.environ[\"CPL_VSIL_USE_TEMP_FILE_FOR_RANDOM_WRITE\"]=\"YES\""
   ]
  },
  {
   "cell_type": "code",
   "execution_count": null,
   "id": "d576116e-caad-4c4f-865d-032ed1f96968",
   "metadata": {},
   "outputs": [],
   "source": [
    "# Read from S3 bucket on personal MINIO server\n",
    "import geopandas as gpd\n",
    "\n",
    "gmw2017_india = gpd.read_file(\"/vsis3/biodiversity/mangroves/GMW2017_india.fgb\")\n",
    "gmw2020_india = gpd.read_file(\"/vsis3/biodiversity/mangroves/GMW2020_india.fgb\")\n"
   ]
  },
  {
   "cell_type": "code",
   "execution_count": null,
   "id": "3add7482-e63c-4070-9cf1-550957d23d1a",
   "metadata": {},
   "outputs": [],
   "source": [
    "\n",
    "import rasterio\n",
    "from matplotlib import pyplot\n",
    "\n",
    "bii_2017 = rasterio.open(\"/vsis3/biodiversity/mangroves/BII_2017_india_2k.tif\")\n",
    "bii_2020 = rasterio.open(\"/vsis3/biodiversity/mangroves/BII_2020_india_2k.tif\")"
   ]
  }
 ],
 "metadata": {
  "kernelspec": {
   "display_name": "Python 3 (ipykernel)",
   "language": "python",
   "name": "python3"
  },
  "language_info": {
   "codemirror_mode": {
    "name": "ipython",
    "version": 3
   },
   "file_extension": ".py",
   "mimetype": "text/x-python",
   "name": "python",
   "nbconvert_exporter": "python",
   "pygments_lexer": "ipython3",
   "version": "3.10.6"
  }
 },
 "nbformat": 4,
 "nbformat_minor": 5
}
